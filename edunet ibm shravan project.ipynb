{
 "cells": [
  {
   "cell_type": "code",
   "execution_count": 1,
   "id": "ca7ace2b",
   "metadata": {},
   "outputs": [],
   "source": [
    "import pandas as pd\n",
    "import numpy as np\n",
    "from sklearn.model_selection import train_test_split\n",
    "from sklearn.pipeline import Pipeline\n",
    "from sklearn.compose import ColumnTransformer\n",
    "from sklearn.impute import SimpleImputer\n",
    "from sklearn.preprocessing import StandardScaler, OneHotEncoder\n",
    "from sklearn.linear_model import ElasticNet\n",
    "from sklearn.metrics import mean_squared_error, r2_score"
   ]
  },
  {
   "cell_type": "code",
   "execution_count": 2,
   "id": "dc627fe3",
   "metadata": {},
   "outputs": [
    {
     "name": "stdout",
     "output_type": "stream",
     "text": [
      "Dataset Overview:\n",
      "   Id  MSSubClass MSZoning  LotArea LotConfig BldgType  OverallCond  \\\n",
      "0   0          60       RL     8450    Inside     1Fam            5   \n",
      "1   1          20       RL     9600       FR2     1Fam            8   \n",
      "2   2          60       RL    11250    Inside     1Fam            5   \n",
      "3   3          70       RL     9550    Corner     1Fam            5   \n",
      "4   4          60       RL    14260       FR2     1Fam            5   \n",
      "\n",
      "   YearBuilt  YearRemodAdd Exterior1st  BsmtFinSF2  TotalBsmtSF  SalePrice  \n",
      "0       2003          2003     VinylSd         0.0        856.0   208500.0  \n",
      "1       1976          1976     MetalSd         0.0       1262.0   181500.0  \n",
      "2       2001          2002     VinylSd         0.0        920.0   223500.0  \n",
      "3       1915          1970     Wd Sdng         0.0        756.0   140000.0  \n",
      "4       2000          2000     VinylSd         0.0       1145.0   250000.0  \n"
     ]
    }
   ],
   "source": [
    "file_path = \"C:/Users/Windows 11/Desktop/New folder (5)/housePricepredict.csv\"\n",
    "data = pd.read_csv(file_path)\n",
    "\n",
    "# Displaying the first few rows of the dataset\n",
    "print(\"Dataset Overview:\")\n",
    "print(data.head())"
   ]
  },
  {
   "cell_type": "code",
   "execution_count": 3,
   "id": "f001d8ed",
   "metadata": {},
   "outputs": [
    {
     "name": "stdout",
     "output_type": "stream",
     "text": [
      "\n",
      "Preprocessed Features (X):\n",
      "    Id MSSubClass  LotArea OverallCond YearBuilt YearRemodAdd BsmtFinSF2  \\\n",
      "0  0.0       60.0   8450.0         5.0    2003.0       2003.0        0.0   \n",
      "1  1.0       20.0   9600.0         8.0    1976.0       1976.0        0.0   \n",
      "2  2.0       60.0  11250.0         5.0    2001.0       2002.0        0.0   \n",
      "3  3.0       70.0   9550.0         5.0    1915.0       1970.0        0.0   \n",
      "4  4.0       60.0  14260.0         5.0    2000.0       2000.0        0.0   \n",
      "\n",
      "  TotalBsmtSF MSZoning LotConfig BldgType Exterior1st  \n",
      "0       856.0       RL    Inside     1Fam     VinylSd  \n",
      "1      1262.0       RL       FR2     1Fam     MetalSd  \n",
      "2       920.0       RL    Inside     1Fam     VinylSd  \n",
      "3       756.0       RL    Corner     1Fam     Wd Sdng  \n",
      "4      1145.0       RL       FR2     1Fam     VinylSd  \n",
      "\n",
      "Preprocessed Target (y):\n",
      "[208500. 181500. 223500. 140000. 250000.]\n"
     ]
    }
   ],
   "source": [
    "# Handle missing values in X (features)\n",
    "X = data.drop(columns=['SalePrice'])  # Features\n",
    "X_numeric_features = X.select_dtypes(include=['int64', 'float64']).columns\n",
    "X_categorical_features = X.select_dtypes(include=['object']).columns\n",
    "\n",
    "X_preprocessor = ColumnTransformer(\n",
    "    transformers=[\n",
    "        ('num', SimpleImputer(strategy='mean'), X_numeric_features),\n",
    "        ('cat', SimpleImputer(strategy='constant', fill_value='missing'), X_categorical_features)\n",
    "    ])\n",
    "\n",
    "# Handle missing values in y (target)\n",
    "y = data['SalePrice']  # Target\n",
    "y_preprocessor = SimpleImputer(strategy='mean')\n",
    "\n",
    "# Apply preprocessing to fill missing values\n",
    "X = X_preprocessor.fit_transform(X)\n",
    "y = y_preprocessor.fit_transform(np.array(y).reshape(-1, 1)).ravel()\n",
    "\n",
    "# Convert X back to DataFrame for convenience (optional)\n",
    "X = pd.DataFrame(X, columns=X_numeric_features.tolist() + X_categorical_features.tolist())\n",
    "\n",
    "# Display the first few rows of preprocessed X and y\n",
    "print(\"\\nPreprocessed Features (X):\")\n",
    "print(X.head())\n",
    "print(\"\\nPreprocessed Target (y):\")\n",
    "print(y[:5])  # Displaying first 5 elements of y\n",
    "\n"
   ]
  },
  {
   "cell_type": "code",
   "execution_count": 4,
   "id": "5b579adc",
   "metadata": {},
   "outputs": [
    {
     "name": "stdout",
     "output_type": "stream",
     "text": [
      "\n",
      "Training set shape:\n",
      "X_train: (2335, 12)\n",
      "y_train: (2335,)\n",
      "\n",
      "Test set shape:\n",
      "X_test: (584, 12)\n",
      "y_test: (584,)\n"
     ]
    }
   ],
   "source": [
    "X_train, X_test, y_train, y_test = train_test_split(X, y, test_size=0.2, random_state=42)\n",
    "\n",
    "# Display the shape of training and test sets\n",
    "print(\"\\nTraining set shape:\")\n",
    "print(\"X_train:\", X_train.shape)\n",
    "print(\"y_train:\", y_train.shape)\n",
    "print(\"\\nTest set shape:\")\n",
    "print(\"X_test:\", X_test.shape)\n",
    "print(\"y_test:\", y_test.shape)"
   ]
  },
  {
   "cell_type": "code",
   "execution_count": 5,
   "id": "2c1ae1d3",
   "metadata": {},
   "outputs": [
    {
     "name": "stdout",
     "output_type": "stream",
     "text": [
      "\n",
      "Numeric features:\n",
      "Index(['Id', 'MSSubClass', 'LotArea', 'OverallCond', 'YearBuilt',\n",
      "       'YearRemodAdd', 'BsmtFinSF2', 'TotalBsmtSF'],\n",
      "      dtype='object')\n",
      "\n",
      "Categorical features:\n",
      "Index(['MSZoning', 'LotConfig', 'BldgType', 'Exterior1st'], dtype='object')\n"
     ]
    }
   ],
   "source": [
    "numeric_transformer = Pipeline(steps=[\n",
    "    ('scaler', StandardScaler())\n",
    "])\n",
    "\n",
    "categorical_transformer = Pipeline(steps=[\n",
    "    ('onehot', OneHotEncoder(handle_unknown='ignore'))\n",
    "])\n",
    "\n",
    "preprocessor = ColumnTransformer(\n",
    "    transformers=[\n",
    "        ('num', numeric_transformer, X_numeric_features),\n",
    "        ('cat', categorical_transformer, X_categorical_features)\n",
    "    ])\n",
    "print(\"\\nNumeric features:\")\n",
    "print(X_numeric_features)\n",
    "print(\"\\nCategorical features:\")\n",
    "print(X_categorical_features)"
   ]
  },
  {
   "cell_type": "code",
   "execution_count": 6,
   "id": "9113d413",
   "metadata": {},
   "outputs": [
    {
     "name": "stdout",
     "output_type": "stream",
     "text": [
      "\n",
      "Model Pipeline:\n",
      "Pipeline(steps=[('preprocessor',\n",
      "                 ColumnTransformer(transformers=[('num',\n",
      "                                                  Pipeline(steps=[('scaler',\n",
      "                                                                   StandardScaler())]),\n",
      "                                                  Index(['Id', 'MSSubClass', 'LotArea', 'OverallCond', 'YearBuilt',\n",
      "       'YearRemodAdd', 'BsmtFinSF2', 'TotalBsmtSF'],\n",
      "      dtype='object')),\n",
      "                                                 ('cat',\n",
      "                                                  Pipeline(steps=[('onehot',\n",
      "                                                                   OneHotEncoder(handle_unknown='ignore'))]),\n",
      "                                                  Index(['MSZoning', 'LotConfig', 'BldgType', 'Exterior1st'], dtype='object'))])),\n",
      "                ('regressor', ElasticNet())])\n"
     ]
    }
   ],
   "source": [
    "model = Pipeline(steps=[\n",
    "    ('preprocessor', preprocessor),\n",
    "    ('regressor', ElasticNet())\n",
    "])\n",
    "# Display the defined model pipeline\n",
    "print(\"\\nModel Pipeline:\")\n",
    "print(model)"
   ]
  },
  {
   "cell_type": "code",
   "execution_count": 7,
   "id": "807e5b8d",
   "metadata": {},
   "outputs": [
    {
     "name": "stdout",
     "output_type": "stream",
     "text": [
      "\n",
      "Model fitted successfully.\n"
     ]
    }
   ],
   "source": [
    "model.fit(X_train, y_train)\n",
    "\n",
    "print(\"\\nModel fitted successfully.\")"
   ]
  },
  {
   "cell_type": "code",
   "execution_count": 8,
   "id": "32b450b7",
   "metadata": {},
   "outputs": [
    {
     "name": "stdout",
     "output_type": "stream",
     "text": [
      "\n",
      "Predictions on Training Set:\n",
      "[165682.36379193 202683.07585379 187980.43673878 ... 156040.87615389\n",
      " 173902.30069549 171063.65054082]\n"
     ]
    }
   ],
   "source": [
    "y_train_pred = model.predict(X_train)\n",
    "\n",
    "# Display the predicted values on training set\n",
    "print(\"\\nPredictions on Training Set:\")\n",
    "print(y_train_pred)"
   ]
  },
  {
   "cell_type": "code",
   "execution_count": 9,
   "id": "819fbc1e",
   "metadata": {},
   "outputs": [
    {
     "name": "stdout",
     "output_type": "stream",
     "text": [
      "\n",
      "Training Set Performance:\n",
      "RMSE = 47568.92651822236, R^2 = 0.2581225777812258\n"
     ]
    }
   ],
   "source": [
    "train_mse = mean_squared_error(y_train, y_train_pred)\n",
    "train_rmse = np.sqrt(train_mse)\n",
    "train_r2 = r2_score(y_train, y_train_pred)\n",
    "\n",
    "# Display the evaluation metrics for training set\n",
    "print(f\"\\nTraining Set Performance:\")\n",
    "print(f\"RMSE = {train_rmse}, R^2 = {train_r2}\")"
   ]
  },
  {
   "cell_type": "code",
   "execution_count": 10,
   "id": "12e88a8d",
   "metadata": {},
   "outputs": [
    {
     "name": "stdout",
     "output_type": "stream",
     "text": [
      "\n",
      "Predictions on Test Set:\n",
      "[163428.84652816 181921.15598911 169787.81132705 184407.59024905\n",
      " 191877.96661685 212867.63291935 144979.7527681  198648.58003773\n",
      " 142856.7822485  192126.49687113 180237.4623223  190830.50638906\n",
      " 172124.80080768 196552.95748526 177458.84237582 188428.88899899\n",
      " 167395.13588316 189158.09959123 146338.03534985 162322.18466269\n",
      " 194263.45537772 144498.40817536 147930.86417039 195519.06974176\n",
      " 197898.49191495 191433.17782656 186481.47287    154472.95467181\n",
      " 195541.23902371 164602.37527575 213795.01325452 166319.52592857\n",
      " 190769.60483164 190502.65081227 198935.22328478 205753.59145057\n",
      " 175012.13791424 169416.19176179 164441.89002305 167391.71725401\n",
      " 144327.82906989 191555.90934535 213624.43370822 180122.37854495\n",
      " 173883.17160631 182611.46852138 198092.7079779  181358.94409723\n",
      " 176062.05101959 224724.7889     154569.75855037 180390.78918841\n",
      " 148098.79691687 199124.47921518 174433.24516674 145197.13528658\n",
      " 159422.05871391 175947.70897103 207196.61247349 171357.62756788\n",
      " 168291.48040226 153149.87963684 176599.11157557 167090.74084579\n",
      " 168507.60119692 200429.8022298  194058.96705199 167358.30246731\n",
      " 167512.84522949 163915.47481993 193540.7894638  166848.73167918\n",
      " 189712.05862573 206444.96916174 147306.2911816  132839.17390743\n",
      " 193276.93948558 152692.11662215 195239.22406245 189953.79647239\n",
      " 166157.15018539 197143.31700174 185531.44086524 153856.48461157\n",
      " 170179.3007839  188226.9341805  135141.55672909 164410.49218371\n",
      " 146026.07499956 177160.37632254 174764.07088663 146475.46032848\n",
      " 159596.1868024  213071.80853525 178542.5473442  166816.25772845\n",
      " 169092.48627521 199185.16198947 159203.80358242 179713.77081193\n",
      " 166645.81766505 176132.93410528 171436.14738264 193351.72371673\n",
      " 184111.581956   170889.24190275 148162.05664744 176024.82323747\n",
      " 214035.02608539 181238.29926063 181319.13794413 156562.25156506\n",
      " 199375.84716017 234474.37107303 206732.23352517 166628.32997048\n",
      " 162518.92351608 199554.7816277  230430.21661892 204608.59280136\n",
      " 161969.80925999 175927.50824643 202768.34738498 163563.8840889\n",
      " 153157.21716386 159718.94806068 171411.4579311  190638.57972554\n",
      " 193741.38351149 206589.81029781 175705.57782008 147687.03938256\n",
      " 191200.57638177 175060.99580324 168099.40085295 168859.95507697\n",
      " 200553.90830059 197558.84668539 210885.923868   199619.18376174\n",
      " 163583.74804662 172003.99179841 154336.92504528 194002.54474451\n",
      " 214082.89238751 211694.81132052 174821.27187195 225323.72762185\n",
      " 190166.84694637 189317.80283536 173488.26877788 213849.84576339\n",
      " 144521.07504448 170395.91320965 146193.97924779 145739.63073129\n",
      " 203006.22090979 199811.58341114 158000.41496718 144872.89125131\n",
      " 217576.70485145 218466.82535543 204438.83090931 166569.83059205\n",
      " 157496.17074884 170269.01416437 218176.44272886 188781.32526105\n",
      " 174693.45661113 143431.36785503 157382.91023873 161000.51446517\n",
      " 192221.99199602 197007.24771273 192611.89719873 206953.00673243\n",
      " 169852.03117209 187774.94763031 171719.0175233  199268.58285765\n",
      " 210270.23751169 202808.30317421 172581.4775389  195372.91212671\n",
      " 190244.56298916 194290.9498319  200191.04046576 210255.77352406\n",
      " 182605.68562605 167306.54832447 201710.97032137 206285.78347459\n",
      " 142922.30315557 161609.47928518 192847.34797497 212448.5876117\n",
      " 206922.50343353 181406.44616077 234729.23405    180987.95874793\n",
      " 169519.29572708 179206.73893907 174833.38089883 164189.25321169\n",
      " 175503.50814253 130417.6014989  150059.08840669 185123.55390357\n",
      " 155697.97899432 179428.48774041 145406.49370211 175103.66869685\n",
      " 204701.47015    186203.05377684 190653.18588274 149750.69047932\n",
      " 195731.44276429 145893.26165691 187828.47078885 183085.60700897\n",
      " 142886.94868154 171569.87921714 197031.82925779 131794.90146766\n",
      " 213769.61242887 182185.38461665 192264.42872249 197859.46944059\n",
      " 156080.37341362 143948.03493914 152169.12718015 167190.48828601\n",
      " 157859.88442601 190064.29212533 164407.18208477 174742.72237856\n",
      " 169839.35675176 187601.03175099 156532.02889842 149567.3109865\n",
      " 212484.08725171 169872.0077881  211305.01195764 212306.96401844\n",
      " 223711.09871872 170915.8555942  167961.58506477 196144.88305041\n",
      " 188776.12213583 182487.54612631 199596.68511323 167658.58827791\n",
      " 173283.6953495  153443.13312952 220073.14066132 143776.93736956\n",
      " 154286.19112807 166631.2476288  206767.95157485 190331.34005365\n",
      " 159608.97911817 177821.57019985 156956.85689051 212191.29675649\n",
      " 207227.48671619 192203.41535261 176441.89261843 177839.61134945\n",
      " 207222.40678129 183617.79209628 178493.3918586  151505.589609\n",
      " 177009.08994626 141528.46453825 206508.57532218 186989.98325907\n",
      " 166055.53705145 207695.13889118 176530.60246438 178424.62653152\n",
      " 213701.91099433 180186.89071602 168758.12147368 149521.83239183\n",
      " 211954.26547692 170766.18940997 199762.83950332 169074.8406568\n",
      " 169054.38346009 153763.37792288 176528.75032156 192541.38872751\n",
      " 176372.97869321 190265.39535627 182602.31703429 195672.64283577\n",
      " 224604.87426751 156862.57898339 172762.9442747  177161.71306091\n",
      " 185982.98548543 206476.23836383 181812.07075844 203454.16406388\n",
      " 160336.61625313 220830.76628144 190355.40047558 211682.88304309\n",
      " 170098.84069898 190216.85392303 188938.62551634 174742.30974427\n",
      " 182350.02924601 184169.19537175 163913.31580027 177087.27388925\n",
      " 152533.00013091 165372.22163432 204044.81558188 166478.07924553\n",
      " 176244.81340588 193418.57584735 206213.44559886 137012.0144896\n",
      " 181092.37895019 206487.71638937 190332.14969032 174157.36239622\n",
      " 137093.47280716 173673.31429117 156252.81277427 195793.6396561\n",
      " 138277.16340312 136129.2222284  206280.10811117 164950.25726527\n",
      " 206706.02641401 187357.9968823  181800.81077851 173866.12525188\n",
      " 151914.08426156 170585.50715067 176169.47297047 180447.24885037\n",
      " 188833.30816267 174621.90211524 197468.22711009 150052.94908382\n",
      " 178944.03302621 141838.71939367 175533.85285767 191212.17751288\n",
      " 164789.70377232 201877.94120928 199083.04702547 178968.85087971\n",
      " 148025.64583075 191369.97398175 151219.25992633 216932.87384126\n",
      " 142314.60669147 189276.68268226 175615.83335511 191936.33647181\n",
      " 189397.8891811  181234.25573551 196922.86255153 197242.82494011\n",
      " 185389.81359299 181748.1983388  167816.78313956 156030.71079642\n",
      " 171556.82465575 148213.81689443 179278.60781788 191522.88784472\n",
      " 176808.81371201 175606.3174889  190628.81792209 166330.13552132\n",
      " 174193.20004611 225532.76326779 187745.43691857 172675.61219764\n",
      " 148838.88653673 196404.18480816 195158.90417607 166373.22416684\n",
      " 162150.47927346 173401.29911533 165779.83489662 203126.43048315\n",
      " 197540.2117224  184760.71956174 189254.82356462 162539.04067672\n",
      " 194567.59530347 208470.94051363 167461.42060553 178932.94830798\n",
      " 168077.05419206 125968.87709078 179614.88284943 179104.5674798\n",
      " 159697.31209229 208706.70027019 148696.48638975 192666.45261436\n",
      " 189949.17912428 153857.08925803 143707.31339446 173047.83066475\n",
      " 171850.99522123 200634.72199887 153562.80576218 181282.48452857\n",
      " 184225.16073393 188576.77989951 212353.1540803  219573.8046149\n",
      " 192617.89311    156232.43895142 162108.64812504 190806.809803\n",
      " 184713.86144399 201380.56386    204667.7923136  217382.71925759\n",
      " 180482.11048466 186013.88082778 176452.07162478 151592.36810927\n",
      " 170664.61898782 198357.43622704 175507.67512314 169961.3509713\n",
      " 141437.53620379 200128.43343493 168998.91397477 144429.45178723\n",
      " 184974.40043443 153602.36805418 167661.75773988 217921.28487159\n",
      " 179128.15179544 159427.61299896 149328.45952501 201617.77262747\n",
      " 187867.84805475 158320.33845532 205535.07443886 164098.07453207\n",
      " 189757.16390326 190757.84827728 176922.185713   162528.01222728\n",
      " 161815.14878092 168396.28912968 182320.80446089 148282.22349474\n",
      " 165453.28449202 192085.82430539 168433.86112765 223118.86710103\n",
      " 201103.89687353 158280.33199959 173120.03450562 245955.79639894\n",
      " 193943.0879707  159418.86955622 232159.12292956 160127.6623905\n",
      " 194892.22084459 202939.59770381 197747.92327055 197046.15519265\n",
      " 175543.41995732 217851.26507689 186785.50052741 156737.71834797\n",
      " 215771.8270374  187057.07347366 154735.7797512  211199.30183814\n",
      " 165566.58533841 162317.18478272 174196.91042277 165589.74217395\n",
      " 150964.54510495 192637.34979876 207539.36170527 190796.08821559\n",
      " 204930.27804273 193257.4756308  366125.162008   211989.10938307\n",
      " 185565.16243681 205312.91694091 148625.70172915 177423.03739099\n",
      " 151451.76554239 203831.71972852 194044.90273794 216741.32502221\n",
      " 143971.35954094 189933.22078809 146164.34849952 196476.32776344\n",
      " 153395.78228749 158579.60741282 200478.87373104 196540.47596875\n",
      " 179990.91120676 182840.74948303 203400.38991682 193808.39476309\n",
      " 175988.59716304 208191.19455948 174185.49836204 195767.85371028\n",
      " 154878.87376992 175268.73870865 182151.32005586 192093.74355045\n",
      " 161436.18888513 162145.43003193 214570.48714731 189577.88565838\n",
      " 192658.04175175 167179.17413129 147498.98031476 171101.76032646\n",
      " 233405.68636911 190744.78206206 189153.56366003 165411.56582385\n",
      " 145918.73761432 168421.64893136 207638.13991641 191938.77137988\n",
      " 174677.165153   173423.90953279 187224.72143033 176979.09797245\n",
      " 168355.80340405 148802.04629665 181792.58257676 160133.84620583\n",
      " 149674.37698259 222951.47031635 203339.63754046 199261.75086401\n",
      " 162872.32232507 183518.11809343 221094.66816897 140251.84727524\n",
      " 174761.26662509 190883.61774432 164718.36368786 177359.87065857\n",
      " 203500.54794465 191319.07807469 168284.23444542 172548.98659798\n",
      " 158860.67250856 183638.70654524 137264.27468446 162694.57153645\n",
      " 172442.55602179 135273.22327988 199052.55898134 194522.60591745\n",
      " 155202.91903805 179627.6808807  182863.36571781 170380.00819706\n",
      " 175958.55620649 193192.69721804 200687.4768958  161866.36705928\n",
      " 218803.41124205 221421.94831884 133924.56867659 200542.3113618 ]\n",
      "(584,)\n"
     ]
    }
   ],
   "source": [
    "y_test_pred = model.predict(X_test)\n",
    "\n",
    "# Display the predicted values on test set\n",
    "print(\"\\nPredictions on Test Set:\")\n",
    "print(y_test_pred)\n",
    "print(y_test_pred.shape)"
   ]
  },
  {
   "cell_type": "code",
   "execution_count": 11,
   "id": "1970b65d",
   "metadata": {},
   "outputs": [
    {
     "name": "stdout",
     "output_type": "stream",
     "text": [
      "\n",
      "Test Set Performance:\n",
      "RMSE = 50355.19583064155, R^2 = 0.2890799497342048\n"
     ]
    }
   ],
   "source": [
    "test_mse = mean_squared_error(y_test, y_test_pred)\n",
    "test_rmse = np.sqrt(test_mse)\n",
    "test_r2 = r2_score(y_test, y_test_pred)\n",
    "\n",
    "# Display the evaluation metrics for test set\n",
    "print(f\"\\nTest Set Performance:\")\n",
    "print(f\"RMSE = {test_rmse}, R^2 = {test_r2}\")\n"
   ]
  },
  {
   "cell_type": "code",
   "execution_count": 13,
   "id": "f5a1bc4d",
   "metadata": {},
   "outputs": [
    {
     "name": "stdout",
     "output_type": "stream",
     "text": [
      "\n",
      "Training Set: RMSE = 47568.92651822236, R^2 = 0.2581225777812258\n",
      "Test Set: RMSE = 50355.19583064155, R^2 = 0.2890799497342048\n"
     ]
    }
   ],
   "source": [
    "print(f\"\\nTraining Set: RMSE = {train_rmse}, R^2 = {train_r2}\")\n",
    "print(f\"Test Set: RMSE = {test_rmse}, R^2 = {test_r2}\")\n"
   ]
  },
  {
   "cell_type": "code",
   "execution_count": null,
   "id": "450978ae",
   "metadata": {},
   "outputs": [],
   "source": []
  },
  {
   "cell_type": "code",
   "execution_count": null,
   "id": "085131d0",
   "metadata": {},
   "outputs": [],
   "source": []
  }
 ],
 "metadata": {
  "kernelspec": {
   "display_name": "Python 3 (ipykernel)",
   "language": "python",
   "name": "python3"
  },
  "language_info": {
   "codemirror_mode": {
    "name": "ipython",
    "version": 3
   },
   "file_extension": ".py",
   "mimetype": "text/x-python",
   "name": "python",
   "nbconvert_exporter": "python",
   "pygments_lexer": "ipython3",
   "version": "3.11.5"
  }
 },
 "nbformat": 4,
 "nbformat_minor": 5
}
